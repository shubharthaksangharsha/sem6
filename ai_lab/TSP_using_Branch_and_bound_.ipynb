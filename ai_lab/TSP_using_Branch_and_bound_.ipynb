{
 "cells": [
  {
   "cell_type": "markdown",
   "id": "c7c24143",
   "metadata": {},
   "source": [
    "# TSP using Branch and Bound by Shubharthak "
   ]
  },
  {
   "cell_type": "markdown",
   "id": "54b427d5",
   "metadata": {},
   "source": [
    "The code solves the Traveling Salesman Problem (TSP) using the Branch and Bound algorithm. The TSP is a well-known optimization problem in which we are given a list of cities and the distances between them, and we need to find the shortest possible route that visits every city exactly once and returns to the starting city. The Branch and Bound algorithm is a common technique for solving optimization problems, in which we systematically explore the solution space by branching on different possibilities and pruning branches that are unlikely to lead to a better solution.\n",
    "\n",
    "Let's go through the code step by step:\n",
    "\n",
    "Import the sys module, which provides access to some variables used or maintained by the Python interpreter.\n",
    "\n",
    "Define the calculate_lower_bound function, which takes in a graph and a path and calculates a lower bound on the total cost of the path. The lower bound is simply the sum of the weights of the edges in the path. This is a heuristic that allows us to discard branches that are guaranteed to be suboptimal.\n",
    "\n",
    "Define the branch_and_bound function, which takes in a graph and returns the optimal path and its cost. The function initializes some variables, including a queue to store the nodes that we need to explore, and the best_path and best_path_cost variables to store the optimal path and its cost. The initial node in the queue is the starting node (node 0) with a cost of 0 and an empty path.\n",
    "\n",
    "The function enters a while loop that continues until the queue is empty. In each iteration, the function pops the first node from the queue and unpacks its cost and path.\n",
    "\n",
    "If the path is complete (i.e., it includes all the nodes in the graph), the function calculates the cost of the path by adding the weight of the edge that connects the last node in the path to the starting node. If the cost of the path is lower than the current best_path_cost, the function updates the best_path and best_path_cost variables.\n",
    "\n",
    "Otherwise, the function generates child nodes by adding one node at a time to the path, provided that the node is not already in the path. For each child node, the function calculates its cost by adding the weight of the edge that connects it to the last node in the path. The function also calculates a lower bound on the cost of the remaining nodes by calling the calculate_lower_bound function. If the sum of the child node cost and the lower bound is lower than the current best_path_cost, the child node is added to the queue.\n",
    "\n",
    "Once the queue is empty, the function returns the best_path and best_path_cost.\n",
    "\n",
    "The rest of the code defines a graph, prints it, and calls the branch_and_bound function to solve the problem. The results are then printed.\n",
    "\n"
   ]
  },
  {
   "cell_type": "code",
   "execution_count": 70,
   "id": "92c2795c",
   "metadata": {},
   "outputs": [
    {
     "name": "stdout",
     "output_type": "stream",
     "text": [
      "   A     B     C     D     \n",
      "A  0     1     15    6     \n",
      "B  2     0     7     3     \n",
      "C  9     6     0     12    \n",
      "D  10    4     8     0     \n",
      "\n",
      "Minimum Cost: 21\n",
      "Optimal Tour: A B D C A"
     ]
    }
   ],
   "source": [
    "import sys\n",
    "\n",
    "# Define a function to calculate the lower bound of a given path\n",
    "def calculate_lower_bound(graph, path):\n",
    "    lower_bound = 0\n",
    "    for i in range(len(path) - 1):\n",
    "        lower_bound += graph[path[i]][path[i+1]]\n",
    "    return lower_bound\n",
    "\n",
    "# Define the Branch and Bound algorithm\n",
    "def branch_and_bound(graph):\n",
    "    # Initialize variables\n",
    "    n = len(graph)\n",
    "    best_path = None\n",
    "    best_path_cost = sys.maxsize\n",
    "    queue = [(0, [0])]\n",
    "    \n",
    "    # Loop until the queue is empty\n",
    "    while queue:\n",
    "        # Get the next node from the queue\n",
    "        node_cost, path = queue.pop(0)\n",
    "        last_node = path[-1]\n",
    "        \n",
    "        # If the path is complete, update the best path\n",
    "        if len(path) == n:\n",
    "            path_cost = node_cost + graph[last_node][0]\n",
    "            if path_cost < best_path_cost:\n",
    "                best_path = path\n",
    "                best_path_cost = path_cost\n",
    "        \n",
    "        # Otherwise, generate child nodes and add them to the queue\n",
    "        else:\n",
    "            for i in range(n):\n",
    "                if i not in path:\n",
    "                    child_cost = node_cost + graph[last_node][i]\n",
    "                    child_lower_bound = calculate_lower_bound(graph, path + [i])\n",
    "                    if child_cost + child_lower_bound < best_path_cost:\n",
    "                        queue.append((child_cost, path + [i]))\n",
    "    \n",
    "    # Return the best path and its cost\n",
    "    return best_path, best_path_cost\n",
    "\n",
    "# Example usage\n",
    "if __name__ == '__main__':\n",
    "    # Define the graph\n",
    "    graph = [\n",
    "        [0, 1, 15, 6],\n",
    "        [2, 0, 7, 3],\n",
    "        [9, 6, 0, 12],\n",
    "        [10, 4, 8, 0]\n",
    "    ]\n",
    "    \n",
    "    # Print the graph\n",
    "    print('   ', end='')\n",
    "    for i in range(len(graph)):\n",
    "        print(chr(65+i), end='     ')\n",
    "    print()\n",
    "\n",
    "    for i in range(len(graph)):\n",
    "        print(chr(65+i), end='  ')\n",
    "        for j in range(len(graph[i])):\n",
    "            print('{:<5}'.format(graph[i][j]), end=' ')\n",
    "        print()\n",
    "\n",
    "    # Solve the problem using Branch and Bound\n",
    "    best_path, best_path_cost = branch_and_bound(graph)\n",
    "    \n",
    "    # Print the results\n",
    "    print('\\nMinimum Cost:', best_path_cost)\n",
    "    print('Optimal Tour:', end=' ')\n",
    "    for i in range(len(best_path)):\n",
    "        print(chr(65+best_path[i]), end=' ')\n",
    "    print(chr(65), end='')"
   ]
  }
 ],
 "metadata": {
  "kernelspec": {
   "display_name": "Python 3 (ipykernel)",
   "language": "python",
   "name": "python3"
  },
  "language_info": {
   "codemirror_mode": {
    "name": "ipython",
    "version": 3
   },
   "file_extension": ".py",
   "mimetype": "text/x-python",
   "name": "python",
   "nbconvert_exporter": "python",
   "pygments_lexer": "ipython3",
   "version": "3.9.13"
  }
 },
 "nbformat": 4,
 "nbformat_minor": 5
}
