{
 "cells": [
  {
   "cell_type": "code",
   "execution_count": 3,
   "metadata": {},
   "outputs": [],
   "source": [
    "from collections import defaultdict\n",
    "from typing import List \n",
    "from nltk.tokenize import word_tokenize\n",
    "def add_one_smoothing(tokens: List[str], n: int):\n",
    "    \"\"\"\n",
    "    Applies add-one smoothing to the n-grams in tokens.\n",
    "    \n",
    "    Params: \n",
    "        tokens: Tokenized list of a sentence\n",
    "        n: N-grams : int \n",
    "    \n",
    "    Returns:\n",
    "        Return the probability of n-grams: dict()\n",
    "    \"\"\"\n",
    "    # Create a dictionary to store the counts of each n-gram\n",
    "    counts = defaultdict(int)\n",
    "\n",
    "    # Iterate over the n-grams in tokens\n",
    "    for i in range(len(tokens)-n+1):\n",
    "        ngram = tuple(tokens[i:i+n])\n",
    "        counts[ngram] += 1\n",
    "\n",
    "    # Create a dictionary to store the probabilities of each n-gram\n",
    "    probs = {}\n",
    "\n",
    "    # Calculate the total number of n-grams\n",
    "    num_ngrams = len(counts.keys())\n",
    "\n",
    "    # Calculate the number of unique n-grams\n",
    "    num_unique_ngrams = len(set(tuple(tokens[i:i+n]) for i in range(len(tokens)-n+1)))\n",
    "\n",
    "    # Iterate over the n-grams in counts\n",
    "    for ngram in counts.keys():\n",
    "        # Calculate the probability of the n-gram using add-one smoothing\n",
    "        probs[ngram] = (counts[ngram]+1) / (len(tokens)-n+1+num_unique_ngrams)\n",
    "\n",
    "    return probs"
   ]
  },
  {
   "cell_type": "code",
   "execution_count": 5,
   "metadata": {},
   "outputs": [
    {
     "name": "stdout",
     "output_type": "stream",
     "text": [
      "Please Enter a sentence: My name is pranchal batra and I am from ambala cantt.\n",
      "Enter number of N-grams: 2\n",
      "{('My', 'name'): 0.09090909090909091, ('name', 'is'): 0.09090909090909091, ('is', 'pranchal'): 0.09090909090909091, ('pranchal', 'batra'): 0.09090909090909091, ('batra', 'and'): 0.09090909090909091, ('and', 'I'): 0.09090909090909091, ('I', 'am'): 0.09090909090909091, ('am', 'from'): 0.09090909090909091, ('from', 'ambala'): 0.09090909090909091, ('ambala', 'cantt'): 0.09090909090909091, ('cantt', '.'): 0.09090909090909091}\n"
     ]
    }
   ],
   "source": [
    "# Example usage\n",
    "sentence = input(\"Please Enter a sentence: \")\n",
    "tokens = word_tokenize(sentence)\n",
    "n = int(input(\"Enter number of N-grams: \"))\n",
    "probs = add_one_smoothing(tokens, n)\n",
    "print(probs)"
   ]
  },
  {
   "cell_type": "code",
   "execution_count": null,
   "metadata": {},
   "outputs": [],
   "source": []
  }
 ],
 "metadata": {
  "kernelspec": {
   "display_name": "Python 3 (ipykernel)",
   "language": "python",
   "name": "python3"
  },
  "language_info": {
   "codemirror_mode": {
    "name": "ipython",
    "version": 3
   },
   "file_extension": ".py",
   "mimetype": "text/x-python",
   "name": "python",
   "nbconvert_exporter": "python",
   "pygments_lexer": "ipython3",
   "version": "3.9.12"
  }
 },
 "nbformat": 4,
 "nbformat_minor": 2
}
