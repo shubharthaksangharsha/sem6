{
 "cells": [
  {
   "cell_type": "code",
   "execution_count": 12,
   "metadata": {},
   "outputs": [
    {
     "name": "stderr",
     "output_type": "stream",
     "text": [
      "[nltk_data] Downloading package vader_lexicon to\n",
      "[nltk_data]     C:\\Users\\student\\AppData\\Roaming\\nltk_data...\n",
      "[nltk_data]   Package vader_lexicon is already up-to-date!\n"
     ]
    },
    {
     "name": "stdout",
     "output_type": "stream",
     "text": [
      "Please enter a sentence: I like to stay happy \n",
      "Sentiment scores: {'neg': 0.0, 'neu': 0.244, 'pos': 0.756, 'compound': 0.7351}\n",
      "Your sentence is positive\n"
     ]
    }
   ],
   "source": [
    "import nltk\n",
    "from nltk.sentiment.vader import SentimentIntensityAnalyzer\n",
    "\n",
    "# Download required NLTK resources\n",
    "nltk.download('vader_lexicon')\n",
    "\n",
    "# Create sentiment analyzer object\n",
    "analyzer = SentimentIntensityAnalyzer()\n",
    "\n",
    "# Sample text to analyze\n",
    "text = input('Please enter a sentence: ')\n",
    "# text = \"NLTK is a fantastic library for natural language processing.\"\n",
    "\n",
    "# Analyze sentiment\n",
    "scores = analyzer.polarity_scores(text)\n",
    "\n",
    "# Print sentiment scores\n",
    "print(\"Sentiment scores:\", scores)\n",
    "\n",
    "pos, neg, neu = scores['pos'], scores['neg'], scores['neu']\n",
    "res = max(pos,max(neg,neu))\n",
    "if res == pos:\n",
    "    print('Your sentence is positive')\n",
    "elif res == neg:\n",
    "    print('Your sentence is negative')\n",
    "else:\n",
    "    print('Your sentence is neutral')"
   ]
  },
  {
   "cell_type": "code",
   "execution_count": null,
   "metadata": {},
   "outputs": [],
   "source": []
  }
 ],
 "metadata": {
  "kernelspec": {
   "display_name": "Python 3",
   "language": "python",
   "name": "python3"
  },
  "language_info": {
   "codemirror_mode": {
    "name": "ipython",
    "version": 3
   },
   "file_extension": ".py",
   "mimetype": "text/x-python",
   "name": "python",
   "nbconvert_exporter": "python",
   "pygments_lexer": "ipython3",
   "version": "3.7.1"
  }
 },
 "nbformat": 4,
 "nbformat_minor": 2
}
