{
 "cells": [
  {
   "cell_type": "code",
   "execution_count": 5,
   "id": "5e43c42e",
   "metadata": {},
   "outputs": [
    {
     "name": "stdout",
     "output_type": "stream",
     "text": [
      "[('I', 'START'), ('am', 'PRON'), ('reading', 'PRON'), ('a', 'PRON'), ('book', 'PRON'), ('on', 'PRON'), ('natural', 'PRON'), ('language', 'PRON'), ('processing', 'PRON')]\n"
     ]
    }
   ],
   "source": [
    "import nltk\n",
    "\n",
    "# Sample training data for POS tagging\n",
    "training_data = [\n",
    "    (\"I\", \"PRON\"), (\"am\", \"VERB\"), (\"reading\", \"VERB\"), (\"a\", \"DET\"), (\"book\", \"NOUN\"),\n",
    "    (\"on\", \"ADP\"), (\"natural\", \"ADJ\"), (\"language\", \"NOUN\"), (\"processing\", \"NOUN\")\n",
    "]\n",
    "\n",
    "# Define the HMM tagger\n",
    "class HMMTagger(nltk.TaggerI):\n",
    "    def __init__(self, train_data):\n",
    "        # Calculate the tag frequencies\n",
    "        self.tag_freq = nltk.FreqDist(tag for (word, tag) in train_data)\n",
    "        \n",
    "        # Calculate the transition probabilities\n",
    "        self.transition_probs = nltk.ConditionalFreqDist(\n",
    "            (tag1, tag2) for ((word1, tag1), (word2, tag2)) in nltk.bigrams(train_data)\n",
    "        )\n",
    "        \n",
    "        # Calculate the emission probabilities\n",
    "        self.emission_probs = nltk.ConditionalFreqDist(\n",
    "            (tag, word) for (word, tag) in train_data\n",
    "        )\n",
    "    \n",
    "    def tag(self, sentence):\n",
    "        # Initialize the Viterbi matrix\n",
    "        viterbi = []\n",
    "        backpointer = []\n",
    "        first_viterbi = {}\n",
    "        first_backpointer = {}\n",
    "        for tag in self.tag_freq.keys():\n",
    "            if tag == 'START':\n",
    "                continue\n",
    "            first_viterbi[tag] = self.transition_probs['START'].freq(tag) * self.emission_probs[tag].freq(sentence[0])\n",
    "            first_backpointer[tag] = 'START'\n",
    "        viterbi.append(first_viterbi)\n",
    "        backpointer.append(first_backpointer)\n",
    "        \n",
    "        # Perform the Viterbi algorithm\n",
    "        for t in range(1, len(sentence)):\n",
    "            current_viterbi = {}\n",
    "            current_backpointer = {}\n",
    "            for tag in self.tag_freq.keys():\n",
    "                if tag == 'START':\n",
    "                    continue\n",
    "                max_prob = max(\n",
    "                    viterbi[t-1][prev_tag] * self.transition_probs[prev_tag].freq(tag) * self.emission_probs[tag].freq(sentence[t])\n",
    "                    for prev_tag in self.tag_freq.keys() if prev_tag != 'END'\n",
    "                )\n",
    "                for prev_tag in self.tag_freq.keys():\n",
    "                    if prev_tag == 'START':\n",
    "                        continue\n",
    "                    if viterbi[t-1][prev_tag] * self.transition_probs[prev_tag].freq(tag) * self.emission_probs[tag].freq(sentence[t]) == max_prob:\n",
    "                        current_viterbi[tag] = max_prob\n",
    "                        current_backpointer[tag] = prev_tag\n",
    "                        break\n",
    "            viterbi.append(current_viterbi)\n",
    "            backpointer.append(current_backpointer)\n",
    "        \n",
    "        # Find the best path\n",
    "        max_prob = max(viterbi[-1][tag] for tag in self.tag_freq.keys() if tag != 'END')\n",
    "        best_path = ['END']\n",
    "        current_tag = max(viterbi[-1], key=viterbi[-1].get)\n",
    "        for i in range(len(sentence) - 1, -1, -1):\n",
    "            best_path.insert(0, current_tag)\n",
    "            current_tag = backpointer[i][current_tag]\n",
    "        best_path.insert(0, 'START')\n",
    "        \n",
    "        return list(zip(sentence, best_path))\n",
    "        \n",
    "\n",
    "# Test the POS tagger\n",
    "sentence = [\"I\", \"am\", \"reading\", \"a\", \"book\", \"on\", \"natural\", \"language\", \"processing\"]\n",
    "tagger = HMMTagger(training_data)\n",
    "tags = tagger.tag(sentence)\n",
    "print(tags)\n"
   ]
  }
 ],
 "metadata": {
  "kernelspec": {
   "display_name": "Python 3 (ipykernel)",
   "language": "python",
   "name": "python3"
  },
  "language_info": {
   "codemirror_mode": {
    "name": "ipython",
    "version": 3
   },
   "file_extension": ".py",
   "mimetype": "text/x-python",
   "name": "python",
   "nbconvert_exporter": "python",
   "pygments_lexer": "ipython3",
   "version": "3.9.12"
  }
 },
 "nbformat": 4,
 "nbformat_minor": 5
}
