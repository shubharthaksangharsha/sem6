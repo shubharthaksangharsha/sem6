{
 "cells": [
  {
   "cell_type": "code",
   "execution_count": 5,
   "metadata": {},
   "outputs": [],
   "source": [
    "from collections import defaultdict\n",
    "from typing import List \n",
    "from nltk.tokenize import sent_tokenized_tokenize\n",
    "def add_one_smoothing(tokens: List[str], n: int):\n",
    "    \"\"\"\n",
    "    Applies add-one smoothing to the n-grams in tokens.\n",
    "    \n",
    "    Params: \n",
    "        tokens: Tokenized list of a sentence\n",
    "        n: N-grams : int \n",
    "    \n",
    "    Returns:\n",
    "        Return the probability of n-grams: dict()\n",
    "    \"\"\"\n",
    "    # Create a dictionary to store the counts of each n-gram\n",
    "    counts = defaultdict(int)\n",
    "\n",
    "    # Iterate over the n-grams in tokens\n",
    "    for i in range(len(tokens)-n+1):\n",
    "        ngram = tuple(tokens[i:i+n])\n",
    "        counts[ngram] += 1\n",
    "\n",
    "    # Create a dictionary to store the probabilities of each n-gram\n",
    "    probs = {}\n",
    "\n",
    "    # Calculate the total number of n-grams\n",
    "    num_ngrams = len(counts.keys())\n",
    "\n",
    "    # Calculate the number of unique n-grams\n",
    "    num_unique_ngrams = len(set(tuple(tokens[i:i+n]) for i in range(len(tokens)-n+1)))\n",
    "\n",
    "    # Iterate over the n-grams in counts\n",
    "    for ngram in counts.keys():\n",
    "        # Calculate the probability of the n-gram using add-one smoothing\n",
    "        probs[ngram] = (counts[ngram]+1) / (len(tokens)-n+1+num_unique_ngrams)\n",
    "\n",
    "    return probs"
   ]
  },
  {
   "cell_type": "code",
   "execution_count": 6,
   "metadata": {},
   "outputs": [
    {
     "name": "stdout",
     "output_type": "stream",
     "text": [
      "Please Enter a sentence: This is a good book\n",
      "Enter number of N-grams: 2\n",
      "{('This', 'is'): 0.25, ('is', 'a'): 0.25, ('a', 'good'): 0.25, ('good', 'book'): 0.25}\n"
     ]
    }
   ],
   "source": [
    "# Example usage\n",
    "sentence = input(\"Please Enter a sentence: \")\n",
    "tokens = word_tokenize(sentence)\n",
    "n = int(input(\"Enter number of N-grams: \"))\n",
    "probs = add_one_smoothing(tokens, n)\n",
    "print(probs)"
   ]
  },
  {
   "cell_type": "code",
   "execution_count": null,
   "metadata": {},
   "outputs": [],
   "source": []
  }
 ],
 "metadata": {
  "kernelspec": {
   "display_name": "Python 3",
   "language": "python",
   "name": "python3"
  },
  "language_info": {
   "codemirror_mode": {
    "name": "ipython",
    "version": 3
   },
   "file_extension": ".py",
   "mimetype": "text/x-python",
   "name": "python",
   "nbconvert_exporter": "python",
   "pygments_lexer": "ipython3",
   "version": "3.7.1"
  }
 },
 "nbformat": 4,
 "nbformat_minor": 2
}
