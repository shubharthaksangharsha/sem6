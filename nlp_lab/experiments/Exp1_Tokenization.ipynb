{
 "cells": [
  {
   "cell_type": "markdown",
   "id": "4d9acdcd",
   "metadata": {},
   "source": [
    "# Experiment 1: Tokenization using NLTK methods by Shubharthak"
   ]
  },
  {
   "cell_type": "code",
   "execution_count": 5,
   "id": "b7e68156-bb02-4b57-a526-a39eb1b352bc",
   "metadata": {},
   "outputs": [],
   "source": [
    "#Import required libraries and methods\n",
    "from typing import List \n",
    "from nltk.tokenize import sent_tokenize, word_tokenize,   WordPunctTokenizer, TweetTokenizer, TreebankWordTokenizer\n",
    "import re\n",
    "#Own Function to convert sentence into words\n",
    "def convert_to_words(s: str) -> List[str]:\n",
    "    '''Returns the Tokenize list of string that split when \" \" is encounter\n",
    "    Params:\n",
    "        s: input string: str\n",
    "    Returns:\n",
    "        List[int]: tokenize list of string \n",
    "    '''\n",
    "    ans = []\n",
    "    s += ' '\n",
    "    temp = ''\n",
    "    for i in s:\n",
    "        if i == ' ':\n",
    "            ans.append(temp)\n",
    "            temp = ''\n",
    "        else:\n",
    "            temp += i\n",
    "    return ans\n",
    "#Regex function to tokenize\n",
    "def regex(s: str) -> List[str]:\n",
    "    word_regex_improved = r\"(\\w[\\w']*\\w|\\w)\"\n",
    "    word_matcher = re.compile(word_regex_improved)\n",
    "    return word_matcher.findall(s)"
   ]
  },
  {
   "cell_type": "code",
   "execution_count": 9,
   "id": "e11b990d-bd9b-4ef4-9513-92304c5473d0",
   "metadata": {},
   "outputs": [
    {
     "name": "stdout",
     "output_type": "stream",
     "text": [
      "Using Own Function: ['Hey,', 'I', 'am', 'shubharthak', 'and', \"it's\", 'an', 'rainy', 'day.']\n",
      "Using NLTK Sentence Tokenization: [\"Hey, I am shubharthak and it's an rainy day.\"]\n",
      "Using NLTK Word Tokenization: ['Hey', ',', 'I', 'am', 'shubharthak', 'and', 'it', \"'s\", 'an', 'rainy', 'day', '.']\n",
      "Using NLTK WordPunctTokenizer: ['Hey', ',', 'I', 'am', 'shubharthak', 'and', 'it', \"'\", 's', 'an', 'rainy', 'day', '.']\n",
      "Using Regex: ['Hey', 'I', 'am', 'shubharthak', 'and', \"it's\", 'an', 'rainy', 'day']\n",
      "Using NLTK Tweet Tokenization: ['Hey', ',', 'I', 'am', 'shubharthak', 'and', \"it's\", 'an', 'rainy', 'day', '.']\n",
      "Using NLTK TreeBank Word Tokenization: ['Hey', ',', 'I', 'am', 'shubharthak', 'and', 'it', \"'s\", 'an', 'rainy', 'day', '.']\n"
     ]
    }
   ],
   "source": [
    "text = \"Hey, I am shubharthak and it's an rainy day.\"\n",
    "print(f'Using Own Function: {convert_to_words(text)}')\n",
    "print(f'Using NLTK Sentence Tokenization: {sent_tokenize(text)}')\n",
    "print(f'Using NLTK Word Tokenization: {word_tokenize(text)}')\n",
    "print(f'Using NLTK WordPunctTokenizer: {WordPunctTokenizer().tokenize(text)}')\n",
    "print(f'Using Regex: {regex(text)}')\n",
    "print(f'Using NLTK Tweet Tokenization: {TweetTokenizer().tokenize(text)}')\n",
    "print(f'Using NLTK TreeBank Word Tokenization: {TreebankWordTokenizer().tokenize(text)}')"
   ]
  }
 ],
 "metadata": {
  "kernelspec": {
   "display_name": "Python 3 (ipykernel)",
   "language": "python",
   "name": "python3"
  },
  "language_info": {
   "codemirror_mode": {
    "name": "ipython",
    "version": 3
   },
   "file_extension": ".py",
   "mimetype": "text/x-python",
   "name": "python",
   "nbconvert_exporter": "python",
   "pygments_lexer": "ipython3",
   "version": "3.9.12"
  }
 },
 "nbformat": 4,
 "nbformat_minor": 5
}
