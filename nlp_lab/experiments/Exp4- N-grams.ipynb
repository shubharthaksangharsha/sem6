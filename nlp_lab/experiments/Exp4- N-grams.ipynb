{
 "cells": [
  {
   "cell_type": "markdown",
   "metadata": {},
   "source": [
    "# Experiment 4: Write a python program to demonstrate n-grams in NLP\n",
    "# by Shubharthak, 20BCS6872"
   ]
  },
  {
   "cell_type": "markdown",
   "metadata": {},
   "source": [
    "## using traditional-algorithm without library"
   ]
  },
  {
   "cell_type": "code",
   "execution_count": 21,
   "metadata": {},
   "outputs": [
    {
     "name": "stdout",
     "output_type": "stream",
     "text": [
      "Please Enter value of N: 2\n",
      "Enter the string: i am shubharthak\n",
      "Counter({'i am': 1, 'am shubharthak': 1})\n"
     ]
    }
   ],
   "source": [
    "from collections import Counter\n",
    "\n",
    "def generate_ngrams(text, n):\n",
    "    # Convert the text to lowercase and split into words\n",
    "    words = text.lower().split()\n",
    "    # Remove all non-alphanumeric characters from the words\n",
    "    words = [word.strip('.,!?:;\"\\'') for word in words]\n",
    "    # Check that there are at least n words in the text\n",
    "    if len(words) < n:\n",
    "        return []\n",
    "    # Generate the n-grams using the zip function\n",
    "    ngrams = zip(*[words[i:] for i in range(n)])\n",
    "    # Return the n-grams as a list\n",
    "    return [' '.join(ngram) for ngram in ngrams]\n",
    "\n",
    "    \n",
    "\n",
    "n = input('Please Enter value of N: ')\n",
    "text = input('Enter the string: ')\n",
    "new_text = generate_ngrams(text, int(n))\n",
    "if new_text:\n",
    "    print(Counter(new_text))\n",
    "else:\n",
    "    print(\"Not enough words to generate n-grams.\")\n"
   ]
  },
  {
   "cell_type": "markdown",
   "metadata": {},
   "source": [
    "## using nltk library "
   ]
  },
  {
   "cell_type": "code",
   "execution_count": 19,
   "metadata": {},
   "outputs": [
    {
     "name": "stdout",
     "output_type": "stream",
     "text": [
      "Enter the string: i am shubharthak \n",
      "Please Enter value of N: 2\n",
      "Counter({'i am': 1, 'am shubharthak': 1})\n"
     ]
    }
   ],
   "source": [
    "import nltk\n",
    "from nltk.util import ngrams\n",
    "from collections import Counter\n",
    "\n",
    "# Get the input text from the user\n",
    "text = input('Enter the string: ')\n",
    "\n",
    "# Tokenize the text into words\n",
    "words = nltk.word_tokenize(text)\n",
    "\n",
    "# Generate the n-grams\n",
    "n = int(input('Please Enter value of N: '))\n",
    "ngrams_list = ngrams(words, n)\n",
    "\n",
    "# Convert the n-grams to a list of strings\n",
    "ngrams_strings = [' '.join(ngram) for ngram in ngrams_list]\n",
    "\n",
    "# Count the frequency of each n-gram\n",
    "ngrams_freq = Counter(ngrams_strings)\n",
    "\n",
    "# Print the n-grams and their frequencies\n",
    "if len(ngrams_freq) > 0:\n",
    "    print(ngrams_freq)\n",
    "else:\n",
    "    print('Not enough words to generate n-grams.')\n"
   ]
  }
 ],
 "metadata": {
  "kernelspec": {
   "display_name": "Python 3",
   "language": "python",
   "name": "python3"
  }
 },
 "nbformat": 4,
 "nbformat_minor": 2
}
