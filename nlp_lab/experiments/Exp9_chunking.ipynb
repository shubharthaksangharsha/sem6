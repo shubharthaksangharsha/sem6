{
 "cells": [
  {
   "cell_type": "code",
   "execution_count": 1,
   "id": "cebc648d",
   "metadata": {},
   "outputs": [
    {
     "name": "stdout",
     "output_type": "stream",
     "text": [
      "(S\n",
      "  (NP The/DT big/JJ brown/JJ fox/NN)\n",
      "  (VP jumps/VBZ)\n",
      "  over/IN\n",
      "  (NP the/DT lazy/JJ dog/NN))\n"
     ]
    }
   ],
   "source": [
    "import nltk\n",
    "\n",
    "# Sample sentence for chunking\n",
    "sentence = [(\"The\", \"DT\"), (\"big\", \"JJ\"), (\"brown\", \"JJ\"), (\"fox\", \"NN\"), (\"jumps\", \"VBZ\"), (\"over\", \"IN\"), (\"the\", \"DT\"), (\"lazy\", \"JJ\"), (\"dog\", \"NN\")]\n",
    "\n",
    "# Define the grammar for chunking\n",
    "grammar = r\"\"\"\n",
    "    NP: {<DT>?<JJ>*<NN>} # Noun Phrase\n",
    "    VP: {<VBZ>?<IN>?<DT>?<JJ>*<NN>*<VBZ>} # Verb Phrase\n",
    "\"\"\"\n",
    "\n",
    "# Create a chunk parser\n",
    "chunk_parser = nltk.RegexpParser(grammar)\n",
    "\n",
    "# Perform chunking\n",
    "result = chunk_parser.parse(sentence)\n",
    "\n",
    "# Print the chunked result\n",
    "print(result)\n"
   ]
  },
  {
   "cell_type": "code",
   "execution_count": null,
   "id": "024ee29e",
   "metadata": {},
   "outputs": [],
   "source": []
  }
 ],
 "metadata": {
  "kernelspec": {
   "display_name": "Python 3 (ipykernel)",
   "language": "python",
   "name": "python3"
  },
  "language_info": {
   "codemirror_mode": {
    "name": "ipython",
    "version": 3
   },
   "file_extension": ".py",
   "mimetype": "text/x-python",
   "name": "python",
   "nbconvert_exporter": "python",
   "pygments_lexer": "ipython3",
   "version": "3.9.12"
  }
 },
 "nbformat": 4,
 "nbformat_minor": 5
}
