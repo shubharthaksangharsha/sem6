{
 "cells": [
  {
   "cell_type": "code",
   "execution_count": 5,
   "metadata": {},
   "outputs": [
    {
     "name": "stdout",
     "output_type": "stream",
     "text": [
      "Please enter a sentence: asd\n",
      "(S\n",
      "  (NP The/DT cat/NN)\n",
      "  chased/VBD\n",
      "  (NP the/DT mouse/NN)\n",
      "  through/IN\n",
      "  (NP the/DT garden/NN))\n"
     ]
    }
   ],
   "source": [
    "import nltk\n",
    "from nltk.tokenize import word_tokenize\n",
    "from nltk.chunk import RegexpParser\n",
    "\n",
    "# Define the sentence to be chunked\n",
    "sentence = input('Please enter a sentence: ')\n",
    "sentence = \"The cat chased the mouse through the garden\"\n",
    "\n",
    "# Tokenize the sentence into words\n",
    "words = word_tokenize(sentence)\n",
    "\n",
    "# Define the grammar rules for chunking\n",
    "grammar = \"NP: {<DT>?<JJ>*<NN>}\"\n",
    "chunk_parser = RegexpParser(grammar)\n",
    "\n",
    "# Perform chunking on the words\n",
    "chunked_words = chunk_parser.parse(nltk.pos_tag(words))\n",
    "\n",
    "# Print the result\n",
    "print(chunked_words)\n"
   ]
  },
  {
   "cell_type": "code",
   "execution_count": null,
   "metadata": {},
   "outputs": [],
   "source": []
  }
 ],
 "metadata": {
  "kernelspec": {
   "display_name": "Python 3",
   "language": "python",
   "name": "python3"
  },
  "language_info": {
   "codemirror_mode": {
    "name": "ipython",
    "version": 3
   },
   "file_extension": ".py",
   "mimetype": "text/x-python",
   "name": "python",
   "nbconvert_exporter": "python",
   "pygments_lexer": "ipython3",
   "version": "3.7.1"
  }
 },
 "nbformat": 4,
 "nbformat_minor": 2
}
