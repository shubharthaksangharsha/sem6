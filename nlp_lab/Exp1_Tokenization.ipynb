{
 "cells": [
  {
   "cell_type": "code",
   "execution_count": 20,
   "id": "b7e68156-bb02-4b57-a526-a39eb1b352bc",
   "metadata": {},
   "outputs": [],
   "source": [
    "#Import required libraries and methods\n",
    "from typing import List \n",
    "from nltk.tokenize import sent_tokenize, word_tokenize, WordPunctTokenizer, TweetTokenizer\n",
    "import re\n",
    "#Own Function to convert sentence into words\n",
    "def convert_to_words(s: str) -> List[str]:\n",
    "    ans = []\n",
    "    s += ' '\n",
    "    temp = ''\n",
    "    for i in s:\n",
    "        if i == ' ':\n",
    "            ans.append(temp)\n",
    "            temp = ''\n",
    "        else:\n",
    "            temp += i\n",
    "    return ans\n",
    "#Regex function to tokenize\n",
    "def regex(s: str) -> str:\n",
    "    return re.split(r\"\\s+\", s) "
   ]
  },
  {
   "cell_type": "code",
   "execution_count": 21,
   "id": "e11b990d-bd9b-4ef4-9513-92304c5473d0",
   "metadata": {},
   "outputs": [
    {
     "name": "stdin",
     "output_type": "stream",
     "text": [
      "Enter a string:  hi i am \n"
     ]
    },
    {
     "name": "stdout",
     "output_type": "stream",
     "text": [
      "Using Own Function: ['hi', 'i', 'am', '']\n",
      "Using NLTK Sentence Tokenization: ['hi i am']\n",
      "Using NLTK Word Tokenization: ['hi', 'i', 'am']\n",
      "Using NLTK Word Tokenization: ['hi', 'i', 'am']\n",
      "Using NLTK WordPunctTokenizer: ['hi', 'i', 'am']\n",
      "Using Regex: ['hi', 'i', 'am', '']\n",
      "Using NLTK Tweet Tokenization: ['hi', 'i', 'am']\n"
     ]
    }
   ],
   "source": [
    "text = input(\"Enter a string: \")\n",
    "print(f'Using Own Function: {convert_to_words(text)}')\n",
    "print(f'Using NLTK Sentence Tokenization: {sent_tokenize(text)}')\n",
    "print(f'Using NLTK Word Tokenization: {word_tokenize(text)}')\n",
    "print(f'Using NLTK WordPunctTokenizer: {WordPunctTokenizer().tokenize(text)}')\n",
    "print(f'Using Regex: {regex(text)}')\n",
    "print(f'Using NLTK Tweet Tokenization: {TweetTokenizer().tokenize(text)}')"
   ]
  }
 ],
 "metadata": {
  "kernelspec": {
   "display_name": "Python 3 (ipykernel)",
   "language": "python",
   "name": "python3"
  },
  "language_info": {
   "codemirror_mode": {
    "name": "ipython",
    "version": 3
   },
   "file_extension": ".py",
   "mimetype": "text/x-python",
   "name": "python",
   "nbconvert_exporter": "python",
   "pygments_lexer": "ipython3",
   "version": "3.9.13"
  }
 },
 "nbformat": 4,
 "nbformat_minor": 5
}
